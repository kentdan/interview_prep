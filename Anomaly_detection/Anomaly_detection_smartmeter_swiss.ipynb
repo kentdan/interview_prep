{
 "cells": [
  {
   "cell_type": "code",
   "execution_count": null,
   "id": "32dc3843",
   "metadata": {},
   "outputs": [],
   "source": [
    "#data are from kaggle https://www.kaggle.com/datasets/portiamurray/anomaly-detection-smart-meter-data-sample \n",
    "import numpy as np \n",
    "import pandas as pd \n",
    "import matplotlib.pyplot as plt\n",
    "import sklearn.preprocessing\n",
    "import seaborn as sns"
   ]
  },
  {
   "cell_type": "code",
   "execution_count": null,
   "id": "b29f34f6",
   "metadata": {},
   "outputs": [],
   "source": [
    "path = './Lastgang Elektroverbruche 160101-170511.xlsx'\n",
    "df = pd.read_excel(path, engine='openpyxl', index_col=0)\n",
    "df.isnull().sum()"
   ]
  },
  {
   "cell_type": "code",
   "execution_count": null,
   "id": "20bb36ce",
   "metadata": {},
   "outputs": [],
   "source": [
    "df.index.name ='datetime'\n",
    "df.columns = ['kwh']\n",
    "df['date'] = df.index.date\n",
    "df['time'] = df.index.time\n",
    "df['year'] = df.index.year\n",
    "df['weekday'] = df.index.strftime(\"%A\")\n",
    "df.head()"
   ]
  },
  {
   "cell_type": "code",
   "execution_count": null,
   "id": "aecc2669",
   "metadata": {},
   "outputs": [],
   "source": [
    "#Entire load curve and the daily load trends\n",
    "pivot_kwh = df.pivot_table(index=df.index, \n",
    "                     values='kwh').plot(figsize=(15,4),\n",
    "                     title='Entire Load Curve')\n",
    "pivot_kwh_daily = df.pivot_table(index=df['time'], \n",
    "                     values='kwh',\n",
    "                     aggfunc=np.mean).plot(figsize=(15,4),\n",
    "                     title='Daily Trends')"
   ]
  },
  {
   "cell_type": "code",
   "execution_count": null,
   "id": "c8cc0c12",
   "metadata": {},
   "outputs": [],
   "source": [
    "#Load distributions & daily load curve\n",
    "dist_kwh = df['kwh'].plot.hist(figsize=(15, 5), bins=100, title='Load Distribution')\n",
    "\n",
    "dist_kwh_weekday = df.pivot_table(index=df['time'], \n",
    "                     columns='weekday', \n",
    "                     values='kwh',\n",
    "                     aggfunc=np.mean).plot(figsize=(15,4),\n",
    "                     title='kwh Day Load Trends')"
   ]
  },
  {
   "cell_type": "code",
   "execution_count": null,
   "id": "b7c0b1c0",
   "metadata": {},
   "outputs": [],
   "source": [
    "#normalize the energy data\n",
    "def normalize_data(df):\n",
    "    scaler = sklearn.preprocessing.MinMaxScaler()\n",
    "    df['kwh']=scaler.fit_transform(df['kwh'].values.reshape(-1,1))\n",
    "    return df\n",
    "\n",
    "df_norm = normalize_data(df)\n",
    "df_norm = df_norm.drop(columns=['date','time','year','weekday'])\n",
    "df_norm.shape"
   ]
  },
  {
   "cell_type": "code",
   "execution_count": null,
   "id": "808d2d6e",
   "metadata": {},
   "outputs": [],
   "source": [
    "df_norm.head()"
   ]
  },
  {
   "cell_type": "code",
   "execution_count": null,
   "id": "7b25b27e",
   "metadata": {},
   "outputs": [],
   "source": [
    "#data_loading\n",
    "def load_data(stock, seq_len):\n",
    "    X_train = []\n",
    "    y_train = []\n",
    "    for i in range(seq_len, len(stock)):\n",
    "        X_train.append(stock.iloc[i-seq_len : i, 0])\n",
    "        y_train.append(stock.iloc[i, 0])\n",
    "    \n",
    "    X_test = X_train[40000:]             \n",
    "    y_test = y_train[40000:]\n",
    "    \n",
    "    X_train = X_train[:40000]           \n",
    "    y_train = y_train[:40000]\n",
    "    \n",
    "    X_train = np.array(X_train)\n",
    "    y_train = np.array(y_train)\n",
    "    \n",
    "    X_test = np.array(X_test)\n",
    "    y_test = np.array(y_test)\n",
    "    \n",
    "    #4 reshape data to input into RNN models\n",
    "    X_train = np.reshape(X_train, (40000, seq_len, 1))\n",
    "    X_test = np.reshape(X_test, (X_test.shape[0], seq_len, 1))\n",
    "    \n",
    "    return [X_train, y_train, X_test, y_test]"
   ]
  },
  {
   "cell_type": "code",
   "execution_count": null,
   "id": "61276f43",
   "metadata": {},
   "outputs": [],
   "source": [
    "seq_len = 20\n",
    "\n",
    "X_train, y_train, X_test, y_test = load_data(df_norm, seq_len)\n",
    "\n",
    "print('X_train.shape = ',X_train.shape)\n",
    "print('y_train.shape = ', y_train.shape)\n",
    "print('X_test.shape = ', X_test.shape)\n",
    "print('y_test.shape = ',y_test.shape)"
   ]
  },
  {
   "cell_type": "code",
   "execution_count": null,
   "id": "26719768",
   "metadata": {},
   "outputs": [],
   "source": [
    "from keras.layers import Dense,Dropout,SimpleRNN,LSTM\n",
    "from keras.models import Sequential\n",
    "from sklearn.metrics import r2_score\n",
    "\n",
    "rnn_model = Sequential()\n",
    "\n",
    "rnn_model.add(SimpleRNN(40,activation=\"tanh\",return_sequences=True, input_shape=(X_train.shape[1],1)))\n",
    "rnn_model.add(Dropout(0.15))\n",
    "\n",
    "rnn_model.add(SimpleRNN(40,activation=\"tanh\",return_sequences=True))\n",
    "rnn_model.add(Dropout(0.15))\n",
    "\n",
    "rnn_model.add(SimpleRNN(40,activation=\"tanh\",return_sequences=False))\n",
    "rnn_model.add(Dropout(0.15))\n",
    "\n",
    "rnn_model.add(Dense(1))\n",
    "\n",
    "rnn_model.summary()"
   ]
  },
  {
   "cell_type": "code",
   "execution_count": null,
   "id": "ded3ab85",
   "metadata": {},
   "outputs": [],
   "source": [
    "rnn_model.compile(optimizer=\"adam\",loss=\"MSE\")\n",
    "rnn_model.fit(X_train, y_train, epochs=10, batch_size=80)"
   ]
  },
  {
   "cell_type": "code",
   "execution_count": null,
   "id": "a2237290",
   "metadata": {},
   "outputs": [],
   "source": [
    "rnn_predictions = rnn_model.predict(X_test)\n",
    "\n",
    "rnn_score = r2_score(y_test,rnn_predictions)\n",
    "print(\"R2 Score of RNN model = \",rnn_score)"
   ]
  },
  {
   "cell_type": "code",
   "execution_count": null,
   "id": "9e6ac96d",
   "metadata": {},
   "outputs": [],
   "source": [
    "def plot_predictions(test, predicted, title):\n",
    "    plt.figure(figsize=(16,4))\n",
    "    plt.plot(test, color='blue',label='Actual power consumption data')\n",
    "    plt.plot(predicted, alpha=0.7, color='orange',label='Predicted power consumption data')\n",
    "    plt.title(title)\n",
    "    plt.xlabel('Time')\n",
    "    plt.ylabel('Normalized power consumption scale')\n",
    "#     plt.xlim(0,200)\n",
    "    plt.legend()\n",
    "    plt.show()\n",
    "    \n",
    "plot_predictions(y_test, rnn_predictions, \"Load Predictions Validation\")\n"
   ]
  }
 ],
 "metadata": {
  "kernelspec": {
   "display_name": "Python 3.10 (cv)",
   "language": "python",
   "name": "cv"
  },
  "language_info": {
   "codemirror_mode": {
    "name": "ipython",
    "version": 3
   },
   "file_extension": ".py",
   "mimetype": "text/x-python",
   "name": "python",
   "nbconvert_exporter": "python",
   "pygments_lexer": "ipython3",
   "version": "3.9.4"
  }
 },
 "nbformat": 4,
 "nbformat_minor": 5
}
